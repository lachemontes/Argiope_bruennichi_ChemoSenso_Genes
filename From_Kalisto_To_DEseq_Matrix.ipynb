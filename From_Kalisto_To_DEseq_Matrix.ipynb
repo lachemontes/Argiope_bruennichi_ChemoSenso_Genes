{
 "cells": [
  {
   "cell_type": "markdown",
   "id": "6eec436d",
   "metadata": {},
   "source": [
    "\n",
    "# How to create a abundance matrix for all the libraries? est_counts\n",
    "This Python script is designed to take in a list of input files containing expression data for a set of biological samples, and output a single TSV file containing the est_counts values for each sample.\n",
    "\n",
    "Overall, the script takes in expression data for multiple biological samples and outputs a single TSV file containing the est_counts values for each transcript in each sample. The est_counts values are aggregated across all input files, which makes it easier to compare expression levels between samples."
   ]
  },
  {
   "cell_type": "code",
   "execution_count": 5,
   "id": "8996bbd0",
   "metadata": {},
   "outputs": [],
   "source": [
    "import os\n",
    "import pandas as pd\n",
    "\n",
    "# Define the directory path where the input files are located\n",
    "input_dir = os.getcwd()  # Current working directory\n",
    "\n",
    "# Get a list of TSV files in the input directory\n",
    "input_files = [file for file in os.listdir(input_dir) if file.endswith(\".tsv\")]\n",
    "\n",
    "# Create a dictionary to store the est_counts values\n",
    "est_counts_dict = {}\n",
    "\n",
    "# Loop over the input files and populate the est_counts dictionary\n",
    "for input_file_path in input_files:\n",
    "    with open(input_file_path, \"r\") as input_file:\n",
    "        # Get the header (assuming first line is the header)\n",
    "        header = next(input_file).strip().split(\"\\t\")\n",
    "        # Capture the column index for est_counts, assuming it's the fourth column\n",
    "        est_counts_index = 3\n",
    "        \n",
    "        for line in input_file:\n",
    "            values = line.strip().split(\"\\t\")\n",
    "            if len(values) < 5:\n",
    "                continue  # Skip lines that don't have enough columns\n",
    "            target_id = values[0]\n",
    "            est_counts = values[est_counts_index]  # Get est_counts\n",
    "\n",
    "            if target_id not in est_counts_dict:\n",
    "                # Initialize list with None values for all files\n",
    "                est_counts_dict[target_id] = [None] * len(input_files)\n",
    "\n",
    "            # Update the appropriate index based on the current file.\n",
    "            file_index = input_files.index(os.path.basename(input_file_path))\n",
    "            est_counts_dict[target_id][file_index] = est_counts\n",
    "\n",
    "# Write the est_counts dictionary to a TSV file\n",
    "output_file_path = \"est_counts_matrix_Trinity_Ticks_2024_AUG.tsv\"\n",
    "with open(output_file_path, \"w\") as output_file:\n",
    "    # Write the header line\n",
    "    output_file.write(\"target_id\\t\" + \"\\t\".join(input_files) + \"\\n\")\n",
    "    \n",
    "    for target_id, est_counts_list in est_counts_dict.items():\n",
    "        # Convert None to an empty string for output\n",
    "        est_counts_list = [str(ec) if ec is not None else \"\" for ec in est_counts_list]\n",
    "        output_file.write(target_id + \"\\t\" + \"\\t\".join(est_counts_list) + \"\\n\")\n"
   ]
  },
  {
   "cell_type": "markdown",
   "id": "a0b38926",
   "metadata": {},
   "source": [
    "### sorted by columns names"
   ]
  },
  {
   "cell_type": "code",
   "execution_count": 6,
   "id": "62563370",
   "metadata": {},
   "outputs": [],
   "source": [
    "import pandas as pd\n",
    "\n",
    "# Load the data from the CSV file\n",
    "data = pd.read_csv('est_counts_matrix_Trinity_Ticks_2024_AUG.tsv', delimiter='\\t')\n",
    "\n",
    "# Sort the columns by name\n",
    "sorted_columns = sorted(data.columns[1:])\n",
    "\n",
    "# Create a new DataFrame with the sorted columns\n",
    "sorted_data = data[['target_id'] + sorted_columns]\n",
    "\n",
    "# Save the sorted DataFrame to a new CSV file\n",
    "sorted_data.to_csv('your_reorganized_est_counts_matrix_Trinity_2024_Ticks.csv', index=False)\n"
   ]
  },
  {
   "cell_type": "code",
   "execution_count": 3,
   "id": "709c71cb",
   "metadata": {},
   "outputs": [],
   "source": [
    "import pandas as pd\n",
    "import glob\n",
    "import os\n",
    "from functools import reduce\n",
    "\n",
    "def aggregate_est_counts(input_directory, output_file):\n",
    "    filenames = glob.glob(os.path.join(input_directory, \"abundance_*.tsv\"))\n",
    "    data_frames = []\n",
    "\n",
    "    for file in filenames:\n",
    "        df = pd.read_csv(file, sep='\\t')\n",
    "        \n",
    "        # Extract a unique sample name using more parts of the filename\n",
    "        # This assumes structure: abundance_<unique_sample_portion>.tsv\n",
    "        sample_name = os.path.splitext(os.path.basename(file))[0].replace(\"abundance_\", \"\")\n",
    "        \n",
    "        df = df[['target_id', 'tpm']]\n",
    "        df.rename(columns={\"tpm\": sample_name}, inplace=True)\n",
    "        \n",
    "        data_frames.append(df)\n",
    "    \n",
    "    # Function to merge two dataframes on 'target_id'\n",
    "    def merge_dataframes(left, right):\n",
    "        return pd.merge(left, right, on='target_id', how='outer', suffixes=(\"\", \"_y\")).fillna(0)\n",
    "    \n",
    "    # Reduce using the custom merge function\n",
    "    merged_df = reduce(merge_dataframes, data_frames)\n",
    "    \n",
    "    # Drop any duplicate columns that may arise\n",
    "    merged_df = merged_df.loc[:, ~merged_df.columns.str.endswith('_y')]\n",
    "\n",
    "    merged_df.to_csv(output_file, sep='\\t', index=False)\n",
    "\n",
    "# Example usage\n",
    "#input_directory = 'path/to/directory/with/tsv/files'  # Set to your directory path\n",
    "#output_file = 'aggregated_est_counts.tsv'  # Set to your desired output file name\n",
    "#aggregate_est_counts(input_directory, output_file)\n"
   ]
  },
  {
   "cell_type": "code",
   "execution_count": 4,
   "id": "4dd1f108",
   "metadata": {},
   "outputs": [],
   "source": [
    "# Example use\n",
    "input_directory = '/Users/zaidemontesortiz/Documents/1_PhD_project_Spiders_Ticks_Beetles/Ticks/Results/Diff_Expression_Analysis/Kallisto_2024'  # Change to the path of your input files\n",
    "output_file = 'aggregated_tpm_counts.tsv'  # Change to your desired output file name\n",
    "aggregate_est_counts(input_directory, output_file)"
   ]
  }
 ],
 "metadata": {
  "kernelspec": {
   "display_name": "Python 3 (ipykernel)",
   "language": "python",
   "name": "python3"
  },
  "language_info": {
   "codemirror_mode": {
    "name": "ipython",
    "version": 3
   },
   "file_extension": ".py",
   "mimetype": "text/x-python",
   "name": "python",
   "nbconvert_exporter": "python",
   "pygments_lexer": "ipython3",
   "version": "3.9.13"
  }
 },
 "nbformat": 4,
 "nbformat_minor": 5
}
